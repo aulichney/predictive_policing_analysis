{
 "cells": [
  {
   "cell_type": "code",
   "execution_count": 47,
   "metadata": {},
   "outputs": [],
   "source": [
    "import numpy as np\n",
    "import pandas as pd\n",
    "\n",
    "from shapely.geometry import Point\n",
    "import geopandas as gpd\n",
    "from geopandas import GeoDataFrame\n",
    "\n",
    "from datetime import datetime\n",
    "from dateutil.relativedelta import relativedelta\n",
    "\n",
    "import pyproj\n",
    "\n",
    "\n",
    "import descartes\n",
    "%matplotlib inline\n",
    "import matplotlib.pyplot as plt\n",
    "\n",
    "import shapely\n",
    "import contextily as cx\n",
    "\n",
    "import open_cp.data\n",
    "import open_cp.geometry\n",
    "import open_cp.plot\n",
    "import matplotlib.collections\n",
    "import open_cp.kernels\n",
    "\n",
    "import sepp.sepp_grid\n",
    "import datetime\n",
    "\n",
    "from tqdm import tqdm"
   ]
  },
  {
   "cell_type": "code",
   "execution_count": 130,
   "metadata": {},
   "outputs": [],
   "source": [
    "font = {'family' : 'normal',\n",
    "        'size'   : 16}\n",
    "\n",
    "matplotlib.rc('font', **font)"
   ]
  },
  {
   "cell_type": "code",
   "execution_count": 56,
   "metadata": {},
   "outputs": [],
   "source": [
    "#read in crime data and clean\n",
    "crime = pd.read_csv('2018LAcrime.csv')\n",
    "crime['DATE OCC'] = crime['DATE OCC'].apply(lambda x: datetime.datetime.strptime(x,  '%Y-%m-%d %H:%M:%S'))\n",
    "crime = crime[(crime['DATE OCC'].dt.year == 2018)]\n",
    "crime = crime[~((crime.LAT==0)&(crime.LON==0))]"
   ]
  },
  {
   "cell_type": "code",
   "execution_count": 57,
   "metadata": {},
   "outputs": [
    {
     "name": "stderr",
     "output_type": "stream",
     "text": [
      "/Users/annieulichney/opt/anaconda3/lib/python3.8/site-packages/pyproj/crs/crs.py:131: FutureWarning: '+init=<authority>:<code>' syntax is deprecated. '<authority>:<code>' is the preferred initialization method. When making the change, be mindful of axis order changes: https://pyproj4.github.io/pyproj/stable/gotchas.html#axis-order-changes-in-proj-6\n",
      "  in_crs_string = _prepare_from_proj_string(in_crs_string)\n"
     ]
    }
   ],
   "source": [
    "data = crime[['DATE OCC', 'LAT', 'LON']]\n",
    "#data = data[(data['DATE OCC'].dt.year == 2018)]\n",
    "data.columns = ['date', 'y', 'x']\n",
    "xcoords, ycoords = crime.LON, crime.LAT\n",
    "timestamps = crime['DATE OCC']\n",
    "\n",
    "#la map\n",
    "frame = gpd.read_file('/Users/annieulichney/Desktop/PredPolAnnie/County_Boundary.geojson')\n",
    "geo = list(frame.geometry)[3]\n",
    "\n",
    "#projected version\n",
    "frame_proj = frame.to_crs(epsg=3857)\n",
    "geo_proj = list(frame_proj.geometry)[3]\n",
    "\n",
    "#project the coordinates\n",
    "proj = pyproj.Proj({\"init\":\"EPSG:3857\"})\n",
    "xcoords_proj, ycoords_proj = proj(crime['LON'].values, crime['LAT'].values)\n",
    "\n",
    "#make grid on projected version\n",
    "\n",
    "grid_proj = open_cp.data.Grid(xsize=1000, ysize=1000, xoffset=0, yoffset=0)\n",
    "grid_proj = open_cp.geometry.mask_grid_by_intersection(geo_proj, grid_proj)"
   ]
  },
  {
   "cell_type": "code",
   "execution_count": 51,
   "metadata": {},
   "outputs": [
    {
     "data": {
      "text/html": [
       "<div>\n",
       "<style scoped>\n",
       "    .dataframe tbody tr th:only-of-type {\n",
       "        vertical-align: middle;\n",
       "    }\n",
       "\n",
       "    .dataframe tbody tr th {\n",
       "        vertical-align: top;\n",
       "    }\n",
       "\n",
       "    .dataframe thead th {\n",
       "        text-align: right;\n",
       "    }\n",
       "</style>\n",
       "<table border=\"1\" class=\"dataframe\">\n",
       "  <thead>\n",
       "    <tr style=\"text-align: right;\">\n",
       "      <th></th>\n",
       "      <th>date</th>\n",
       "      <th>y</th>\n",
       "      <th>x</th>\n",
       "    </tr>\n",
       "  </thead>\n",
       "  <tbody>\n",
       "    <tr>\n",
       "      <th>44931</th>\n",
       "      <td>2018-06-01 12:00:00</td>\n",
       "      <td>34.1436</td>\n",
       "      <td>-118.3953</td>\n",
       "    </tr>\n",
       "    <tr>\n",
       "      <th>44989</th>\n",
       "      <td>2018-10-03 12:00:00</td>\n",
       "      <td>33.9781</td>\n",
       "      <td>-118.4644</td>\n",
       "    </tr>\n",
       "    <tr>\n",
       "      <th>45075</th>\n",
       "      <td>2018-02-13 12:00:00</td>\n",
       "      <td>34.0188</td>\n",
       "      <td>-118.2684</td>\n",
       "    </tr>\n",
       "    <tr>\n",
       "      <th>45104</th>\n",
       "      <td>2018-05-05 12:00:00</td>\n",
       "      <td>34.2455</td>\n",
       "      <td>-118.4177</td>\n",
       "    </tr>\n",
       "    <tr>\n",
       "      <th>173613</th>\n",
       "      <td>2018-11-25 12:00:00</td>\n",
       "      <td>34.0654</td>\n",
       "      <td>-118.2941</td>\n",
       "    </tr>\n",
       "  </tbody>\n",
       "</table>\n",
       "</div>"
      ],
      "text/plain": [
       "                      date        y         x\n",
       "44931  2018-06-01 12:00:00  34.1436 -118.3953\n",
       "44989  2018-10-03 12:00:00  33.9781 -118.4644\n",
       "45075  2018-02-13 12:00:00  34.0188 -118.2684\n",
       "45104  2018-05-05 12:00:00  34.2455 -118.4177\n",
       "173613 2018-11-25 12:00:00  34.0654 -118.2941"
      ]
     },
     "execution_count": 51,
     "metadata": {},
     "output_type": "execute_result"
    }
   ],
   "source": [
    "data.head()"
   ]
  },
  {
   "cell_type": "code",
   "execution_count": 63,
   "metadata": {},
   "outputs": [
    {
     "data": {
      "text/plain": [
       "Timestamp('2018-12-31 12:00:00')"
      ]
     },
     "execution_count": 63,
     "metadata": {},
     "output_type": "execute_result"
    }
   ],
   "source": [
    "max(crime['DATE OCC'])"
   ]
  },
  {
   "cell_type": "code",
   "execution_count": 68,
   "metadata": {},
   "outputs": [],
   "source": [
    "crime = crime.reset_index(drop = True)"
   ]
  },
  {
   "cell_type": "code",
   "execution_count": 69,
   "metadata": {},
   "outputs": [],
   "source": [
    "preds_vec = []\n",
    "for i in tqdm(range(crime.shape[0])):\n",
    "    this_crime = crime.loc[i]\n",
    "    xproj, yproj = proj(this_crime.LON, this_crime.LAT)\n",
    "\n",
    "    file_path = this_crime['DATE OCC'].strftime(\"%Y-%m-%d\")\n",
    "    temp_grid = pd.read_csv('grids/' + file_path + '.csv', header = None)\n",
    "\n",
    "    grid_x, grid_y = grid_proj.grid_coord(xproj, yproj)\n",
    "\n",
    "    preds_vec.append(temp_grid[grid_y][grid_x])"
   ]
  },
  {
   "cell_type": "code",
   "execution_count": 71,
   "metadata": {},
   "outputs": [
    {
     "data": {
      "text/html": [
       "<div>\n",
       "<style scoped>\n",
       "    .dataframe tbody tr th:only-of-type {\n",
       "        vertical-align: middle;\n",
       "    }\n",
       "\n",
       "    .dataframe tbody tr th {\n",
       "        vertical-align: top;\n",
       "    }\n",
       "\n",
       "    .dataframe thead th {\n",
       "        text-align: right;\n",
       "    }\n",
       "</style>\n",
       "<table border=\"1\" class=\"dataframe\">\n",
       "  <thead>\n",
       "    <tr style=\"text-align: right;\">\n",
       "      <th></th>\n",
       "      <th>date</th>\n",
       "      <th>y</th>\n",
       "      <th>x</th>\n",
       "    </tr>\n",
       "  </thead>\n",
       "  <tbody>\n",
       "    <tr>\n",
       "      <th>44931</th>\n",
       "      <td>2018-06-01 12:00:00</td>\n",
       "      <td>34.1436</td>\n",
       "      <td>-118.3953</td>\n",
       "    </tr>\n",
       "    <tr>\n",
       "      <th>44989</th>\n",
       "      <td>2018-10-03 12:00:00</td>\n",
       "      <td>33.9781</td>\n",
       "      <td>-118.4644</td>\n",
       "    </tr>\n",
       "    <tr>\n",
       "      <th>45075</th>\n",
       "      <td>2018-02-13 12:00:00</td>\n",
       "      <td>34.0188</td>\n",
       "      <td>-118.2684</td>\n",
       "    </tr>\n",
       "    <tr>\n",
       "      <th>45104</th>\n",
       "      <td>2018-05-05 12:00:00</td>\n",
       "      <td>34.2455</td>\n",
       "      <td>-118.4177</td>\n",
       "    </tr>\n",
       "    <tr>\n",
       "      <th>173613</th>\n",
       "      <td>2018-11-25 12:00:00</td>\n",
       "      <td>34.0654</td>\n",
       "      <td>-118.2941</td>\n",
       "    </tr>\n",
       "  </tbody>\n",
       "</table>\n",
       "</div>"
      ],
      "text/plain": [
       "                      date        y         x\n",
       "44931  2018-06-01 12:00:00  34.1436 -118.3953\n",
       "44989  2018-10-03 12:00:00  33.9781 -118.4644\n",
       "45075  2018-02-13 12:00:00  34.0188 -118.2684\n",
       "45104  2018-05-05 12:00:00  34.2455 -118.4177\n",
       "173613 2018-11-25 12:00:00  34.0654 -118.2941"
      ]
     },
     "execution_count": 71,
     "metadata": {},
     "output_type": "execute_result"
    }
   ],
   "source": [
    "data.head()"
   ]
  },
  {
   "cell_type": "code",
   "execution_count": 72,
   "metadata": {},
   "outputs": [
    {
     "name": "stderr",
     "output_type": "stream",
     "text": [
      "<ipython-input-72-e9c48e2662e7>:1: SettingWithCopyWarning: \n",
      "A value is trying to be set on a copy of a slice from a DataFrame.\n",
      "Try using .loc[row_indexer,col_indexer] = value instead\n",
      "\n",
      "See the caveats in the documentation: https://pandas.pydata.org/pandas-docs/stable/user_guide/indexing.html#returning-a-view-versus-a-copy\n",
      "  data['lambda'] = preds_vec\n"
     ]
    }
   ],
   "source": [
    "data['lambda'] = preds_vec"
   ]
  },
  {
   "cell_type": "code",
   "execution_count": 75,
   "metadata": {},
   "outputs": [
    {
     "data": {
      "text/html": [
       "<div>\n",
       "<style scoped>\n",
       "    .dataframe tbody tr th:only-of-type {\n",
       "        vertical-align: middle;\n",
       "    }\n",
       "\n",
       "    .dataframe tbody tr th {\n",
       "        vertical-align: top;\n",
       "    }\n",
       "\n",
       "    .dataframe thead th {\n",
       "        text-align: right;\n",
       "    }\n",
       "</style>\n",
       "<table border=\"1\" class=\"dataframe\">\n",
       "  <thead>\n",
       "    <tr style=\"text-align: right;\">\n",
       "      <th></th>\n",
       "      <th>date</th>\n",
       "      <th>y</th>\n",
       "      <th>x</th>\n",
       "      <th>lambda</th>\n",
       "    </tr>\n",
       "  </thead>\n",
       "  <tbody>\n",
       "    <tr>\n",
       "      <th>44931</th>\n",
       "      <td>2018-06-01 12:00:00</td>\n",
       "      <td>34.1436</td>\n",
       "      <td>-118.3953</td>\n",
       "      <td>0.334248</td>\n",
       "    </tr>\n",
       "    <tr>\n",
       "      <th>44989</th>\n",
       "      <td>2018-10-03 12:00:00</td>\n",
       "      <td>33.9781</td>\n",
       "      <td>-118.4644</td>\n",
       "      <td>0.000000</td>\n",
       "    </tr>\n",
       "    <tr>\n",
       "      <th>45075</th>\n",
       "      <td>2018-02-13 12:00:00</td>\n",
       "      <td>34.0188</td>\n",
       "      <td>-118.2684</td>\n",
       "      <td>0.035616</td>\n",
       "    </tr>\n",
       "    <tr>\n",
       "      <th>45104</th>\n",
       "      <td>2018-05-05 12:00:00</td>\n",
       "      <td>34.2455</td>\n",
       "      <td>-118.4177</td>\n",
       "      <td>0.054795</td>\n",
       "    </tr>\n",
       "    <tr>\n",
       "      <th>173613</th>\n",
       "      <td>2018-11-25 12:00:00</td>\n",
       "      <td>34.0654</td>\n",
       "      <td>-118.2941</td>\n",
       "      <td>0.071233</td>\n",
       "    </tr>\n",
       "  </tbody>\n",
       "</table>\n",
       "</div>"
      ],
      "text/plain": [
       "                      date        y         x    lambda\n",
       "44931  2018-06-01 12:00:00  34.1436 -118.3953  0.334248\n",
       "44989  2018-10-03 12:00:00  33.9781 -118.4644  0.000000\n",
       "45075  2018-02-13 12:00:00  34.0188 -118.2684  0.035616\n",
       "45104  2018-05-05 12:00:00  34.2455 -118.4177  0.054795\n",
       "173613 2018-11-25 12:00:00  34.0654 -118.2941  0.071233"
      ]
     },
     "execution_count": 75,
     "metadata": {},
     "output_type": "execute_result"
    }
   ],
   "source": [
    "data.head()"
   ]
  },
  {
   "cell_type": "code",
   "execution_count": null,
   "metadata": {},
   "outputs": [],
   "source": []
  },
  {
   "cell_type": "code",
   "execution_count": 74,
   "metadata": {},
   "outputs": [],
   "source": [
    "data.to_csv('intervention_data.csv')"
   ]
  },
  {
   "cell_type": "code",
   "execution_count": 76,
   "metadata": {},
   "outputs": [
    {
     "name": "stdout",
     "output_type": "stream",
     "text": [
      "Crime from  365  unique days\n"
     ]
    },
    {
     "name": "stderr",
     "output_type": "stream",
     "text": [
      "/Users/annieulichney/opt/anaconda3/lib/python3.8/site-packages/pyproj/crs/crs.py:131: FutureWarning: '+init=<authority>:<code>' syntax is deprecated. '<authority>:<code>' is the preferred initialization method. When making the change, be mindful of axis order changes: https://pyproj4.github.io/pyproj/stable/gotchas.html#axis-order-changes-in-proj-6\n",
      "  in_crs_string = _prepare_from_proj_string(in_crs_string)\n"
     ]
    }
   ],
   "source": [
    "#read in crime data and clean\n",
    "crime = pd.read_csv('2018LAcrime.csv')\n",
    "crime['DATE OCC'] = crime['DATE OCC'].apply(lambda x: datetime.datetime.strptime(x,  '%Y-%m-%d %H:%M:%S'))\n",
    "#crime = crime[(crime['DATE OCC'].dt.year == 2018)|(crime['DATE OCC'].dt.year == 2017)]\n",
    "crime = crime[~((crime.LAT==0)&(crime.LON==0))]\n",
    "\n",
    "\n",
    "\n",
    "#get info on which days we are going to be  training\n",
    "start_timestamp = '2018-01-01 00:00:00'\n",
    "start_timestamp = datetime.datetime.strptime(start_timestamp, '%Y-%m-%d %H:%M:%S')\n",
    "\n",
    "print('Crime from ' , len(np.unique(crime[crime['DATE OCC'] >= start_timestamp]['DATE OCC'])), ' unique days')\n",
    "\n",
    "all_dates_to_train = sorted(np.unique(crime[crime['DATE OCC'] >= start_timestamp]['DATE OCC']))\n",
    "\n",
    "\n",
    "\n",
    "#project the coordinates\n",
    "proj = pyproj.Proj({\"init\":\"EPSG:3857\"})\n",
    "\n",
    "#make grid on projected coordinates\n",
    "grid_proj = open_cp.data.Grid(xsize=1000, ysize=1000, xoffset=0, yoffset=0)\n",
    "grid_proj = open_cp.geometry.mask_grid_by_intersection(geo_proj, grid_proj)\n",
    "store_grid_proj = open_cp.plot.lines_from_grid(grid_proj)\n",
    "\n",
    "#initialize dictionary in which to store the trained model from each day\n",
    "pred_dic = dict.fromkeys(all_dates_to_train)\n",
    "\n"
   ]
  },
  {
   "cell_type": "code",
   "execution_count": 77,
   "metadata": {},
   "outputs": [
    {
     "data": {
      "text/plain": [
       "numpy.datetime64('2018-12-31T12:00:00.000000000')"
      ]
     },
     "execution_count": 77,
     "metadata": {},
     "output_type": "execute_result"
    }
   ],
   "source": [
    "max(all_dates_to_train)"
   ]
  },
  {
   "cell_type": "code",
   "execution_count": 79,
   "metadata": {},
   "outputs": [
    {
     "name": "stdout",
     "output_type": "stream",
     "text": [
      "Training for  2018-12-31  with data from  2017-12-31 to  2018-12-30\n"
     ]
    },
    {
     "name": "stderr",
     "output_type": "stream",
     "text": [
      "/Users/annieulichney/Desktop/PredPolAnnie/sepp/sepp_grid.py:370: RuntimeWarning: divide by zero encountered in double_scalars\n",
      "  return over / under\n",
      "/Users/annieulichney/opt/anaconda3/lib/python3.8/site-packages/descartes/patch.py:46: ShapelyDeprecationWarning: Iteration over multi-part geometries is deprecated and will be removed in Shapely 2.0. Use the `geoms` property to access the constituent parts of a multi-part geometry.\n",
      "  polygon = [Polygon(p) for p in polygon]\n",
      "/Users/annieulichney/opt/anaconda3/lib/python3.8/site-packages/descartes/patch.py:63: ShapelyDeprecationWarning: The array interface is deprecated and will no longer work in Shapely 2.0. Convert the '.coords' to a numpy array instead.\n",
      "  concatenate([asarray(t.exterior)[:, :2]] +\n"
     ]
    },
    {
     "data": {
      "image/png": "[encoded data removed]",
      "text/plain": [
       "<Figure size 1440x720 with 2 Axes>"
      ]
     },
     "metadata": {
      "needs_background": "light"
     },
     "output_type": "display_data"
    }
   ],
   "source": [
    "\n",
    "\n",
    "#calculate window of interest in which to train model for the given day we're looking at here\n",
    "train_date = max(all_dates_to_train)\n",
    "one_year_prior = pd.Timestamp(train_date) - pd.DateOffset(years = 1) #we follow moehler and use the prior year to train\n",
    "crime_subset = crime[(crime['DATE OCC'] < train_date) & (crime['DATE OCC'] >= one_year_prior)]\n",
    "\n",
    "day_string = np.datetime_as_string(train_date, unit = 'D')\n",
    "min_day_string =  np.datetime_as_string(np.datetime64(min(crime_subset['DATE OCC'])), unit = 'D')\n",
    "max_day_string = np.datetime_as_string(np.datetime64(max(crime_subset['DATE OCC'])), unit = 'D')\n",
    "\n",
    "print('Training for ', day_string, ' with data from ', min_day_string, 'to ', max_day_string)\n",
    "\n",
    "#project points within the window of interest\n",
    "xcoords_proj, ycoords_proj = proj(crime_subset['LON'].values, crime_subset['LAT'].values)\n",
    "timestamps = crime_subset['DATE OCC']\n",
    "points_proj = open_cp.data.TimedPoints.from_coords(timestamps, xcoords_proj, ycoords_proj)\n",
    "\n",
    "#train the data\n",
    "trainer = sepp.sepp_grid.ExpDecayTrainer(grid_proj)\n",
    "trainer.data = points_proj\n",
    "\n",
    "#predict for the date of interest\n",
    "model = trainer.train(train_date)\n",
    "pred = trainer.prediction_from_background(model)\n",
    "\n",
    "#store in dictionary\n",
    "pred_dic[train_date] = pred.intensity_matrix\n",
    "\n",
    "#save figure of the plotted intensity matrix\n",
    "fig, ax = plt.subplots(figsize=(20,10))\n",
    "ax.add_patch(descartes.PolygonPatch(geo_proj, fc=\"none\"))\n",
    "ax.set_aspect(1)\n",
    "\n",
    "off = 1000\n",
    "factor = 1\n",
    "\n",
    "\n",
    "mappable = ax.pcolor(*pred.mesh_data(), pred.intensity_matrix, cmap=\"YlOrRd\", rasterized=True)\n",
    "fig.colorbar(mappable, ax=ax)\n",
    "ax.set_title(\"LA Crime Predictions for \" + str(day_string))\n",
    "None\n",
    "plt.xlim([min(xcoords_proj) - off, max(xcoords_proj) + off])\n",
    "plt.ylim([min(ycoords_proj) - off, max(ycoords_proj) + off])\n",
    "plt.xticks([])\n",
    "plt.yticks([])\n",
    "plot_title = np.datetime_as_string(train_date, unit = 'D')\n",
    "#plt.savefig('ETAS_plots/' + plot_title + '.png')\n",
    "plt.show()"
   ]
  },
  {
   "cell_type": "code",
   "execution_count": null,
   "metadata": {},
   "outputs": [],
   "source": [
    "data = data.reset_index(drop = True)"
   ]
  },
  {
   "cell_type": "code",
   "execution_count": 88,
   "metadata": {},
   "outputs": [
    {
     "data": {
      "text/html": [
       "<div>\n",
       "<style scoped>\n",
       "    .dataframe tbody tr th:only-of-type {\n",
       "        vertical-align: middle;\n",
       "    }\n",
       "\n",
       "    .dataframe tbody tr th {\n",
       "        vertical-align: top;\n",
       "    }\n",
       "\n",
       "    .dataframe thead th {\n",
       "        text-align: right;\n",
       "    }\n",
       "</style>\n",
       "<table border=\"1\" class=\"dataframe\">\n",
       "  <thead>\n",
       "    <tr style=\"text-align: right;\">\n",
       "      <th></th>\n",
       "      <th>date</th>\n",
       "      <th>y</th>\n",
       "      <th>x</th>\n",
       "      <th>lambda</th>\n",
       "    </tr>\n",
       "  </thead>\n",
       "  <tbody>\n",
       "    <tr>\n",
       "      <th>44931</th>\n",
       "      <td>2018-06-01 12:00:00</td>\n",
       "      <td>34.1436</td>\n",
       "      <td>-118.3953</td>\n",
       "      <td>0.334248</td>\n",
       "    </tr>\n",
       "    <tr>\n",
       "      <th>44989</th>\n",
       "      <td>2018-10-03 12:00:00</td>\n",
       "      <td>33.9781</td>\n",
       "      <td>-118.4644</td>\n",
       "      <td>0.000000</td>\n",
       "    </tr>\n",
       "    <tr>\n",
       "      <th>45075</th>\n",
       "      <td>2018-02-13 12:00:00</td>\n",
       "      <td>34.0188</td>\n",
       "      <td>-118.2684</td>\n",
       "      <td>0.035616</td>\n",
       "    </tr>\n",
       "    <tr>\n",
       "      <th>45104</th>\n",
       "      <td>2018-05-05 12:00:00</td>\n",
       "      <td>34.2455</td>\n",
       "      <td>-118.4177</td>\n",
       "      <td>0.054795</td>\n",
       "    </tr>\n",
       "    <tr>\n",
       "      <th>173613</th>\n",
       "      <td>2018-11-25 12:00:00</td>\n",
       "      <td>34.0654</td>\n",
       "      <td>-118.2941</td>\n",
       "      <td>0.071233</td>\n",
       "    </tr>\n",
       "    <tr>\n",
       "      <th>...</th>\n",
       "      <td>...</td>\n",
       "      <td>...</td>\n",
       "      <td>...</td>\n",
       "      <td>...</td>\n",
       "    </tr>\n",
       "    <tr>\n",
       "      <th>460495</th>\n",
       "      <td>2018-01-06 12:00:00</td>\n",
       "      <td>33.9345</td>\n",
       "      <td>-118.2623</td>\n",
       "      <td>0.000000</td>\n",
       "    </tr>\n",
       "    <tr>\n",
       "      <th>460496</th>\n",
       "      <td>2018-03-23 12:00:00</td>\n",
       "      <td>34.0782</td>\n",
       "      <td>-118.3614</td>\n",
       "      <td>0.306850</td>\n",
       "    </tr>\n",
       "    <tr>\n",
       "      <th>460497</th>\n",
       "      <td>2018-03-23 12:00:00</td>\n",
       "      <td>34.1400</td>\n",
       "      <td>-118.2190</td>\n",
       "      <td>0.139726</td>\n",
       "    </tr>\n",
       "    <tr>\n",
       "      <th>460498</th>\n",
       "      <td>2018-02-24 12:00:00</td>\n",
       "      <td>34.1208</td>\n",
       "      <td>-118.2320</td>\n",
       "      <td>0.060274</td>\n",
       "    </tr>\n",
       "    <tr>\n",
       "      <th>460499</th>\n",
       "      <td>2018-06-02 12:00:00</td>\n",
       "      <td>34.1787</td>\n",
       "      <td>-118.5407</td>\n",
       "      <td>0.293151</td>\n",
       "    </tr>\n",
       "  </tbody>\n",
       "</table>\n",
       "<p>229194 rows × 4 columns</p>\n",
       "</div>"
      ],
      "text/plain": [
       "                      date        y         x    lambda\n",
       "44931  2018-06-01 12:00:00  34.1436 -118.3953  0.334248\n",
       "44989  2018-10-03 12:00:00  33.9781 -118.4644  0.000000\n",
       "45075  2018-02-13 12:00:00  34.0188 -118.2684  0.035616\n",
       "45104  2018-05-05 12:00:00  34.2455 -118.4177  0.054795\n",
       "173613 2018-11-25 12:00:00  34.0654 -118.2941  0.071233\n",
       "...                    ...      ...       ...       ...\n",
       "460495 2018-01-06 12:00:00  33.9345 -118.2623  0.000000\n",
       "460496 2018-03-23 12:00:00  34.0782 -118.3614  0.306850\n",
       "460497 2018-03-23 12:00:00  34.1400 -118.2190  0.139726\n",
       "460498 2018-02-24 12:00:00  34.1208 -118.2320  0.060274\n",
       "460499 2018-06-02 12:00:00  34.1787 -118.5407  0.293151\n",
       "\n",
       "[229194 rows x 4 columns]"
      ]
     },
     "execution_count": 88,
     "metadata": {},
     "output_type": "execute_result"
    }
   ],
   "source": [
    "data"
   ]
  },
  {
   "cell_type": "code",
   "execution_count": 92,
   "metadata": {},
   "outputs": [
    {
     "name": "stdout",
     "output_type": "stream",
     "text": [
      "Mean :  0.1777065502514873\n",
      "Median :  0.0958905111455821\n",
      "Min :  0.0\n",
      "Max :  0.9981109983555037\n",
      "Std :  0.20527767390689833\n"
     ]
    }
   ],
   "source": [
    "print('Mean : ', np.mean(data['lambda']))\n",
    "print('Median : ', np.median(data['lambda']))\n",
    "print('Min : ', np.min(data['lambda']))\n",
    "print('Max : ', np.max(data['lambda']))\n",
    "print('Std : ', np.std(data['lambda']))"
   ]
  },
  {
   "cell_type": "code",
   "execution_count": 117,
   "metadata": {},
   "outputs": [
    {
     "data": {
      "image/png": "[encoded data removed]",
      "text/plain": [
       "<Figure size 720x576 with 1 Axes>"
      ]
     },
     "metadata": {
      "needs_background": "light"
     },
     "output_type": "display_data"
    }
   ],
   "source": [
    "num_bins = 20\n",
    "fig, ax = plt.subplots(figsize=(10,8))\n",
    "n, bins, patches = plt.hist(data['lambda'], num_bins, facecolor='orange', alpha=0.7)\n",
    "plt.ylabel('Frequency')\n",
    "plt.xlabel('$\\lambda$')\n",
    "#plt.title(r'Histogram of $\\lambda$ values for each crime in training data')\n",
    "plt.show()"
   ]
  },
  {
   "cell_type": "code",
   "execution_count": 118,
   "metadata": {},
   "outputs": [
    {
     "name": "stdout",
     "output_type": "stream",
     "text": [
      "Above alpha_1 threshold:  0.16864315819785858\n",
      "Below alpha_2 threshold:  0.30952380952380953\n"
     ]
    }
   ],
   "source": [
    "#recall that the lambda value is the proxy for crime being found on accident\n",
    "#low means we should upweight that particular crime\n",
    "#high means we should downweight it\n",
    "\n",
    "beta_1 = 0.001\n",
    "alpha_1 = np.mean(data['lambda']) + np.std(data['lambda'])\n",
    "\n",
    "beta_2 = 0.001\n",
    "alpha_2 = np.mean(data['lambda']) - 0.75*np.std(data['lambda'])\n",
    "\n",
    "print('Above alpha_1 threshold: ', data[data['lambda'] >= alpha_1].shape[0]/data.shape[0])\n",
    "print('Below alpha_2 threshold: ', data[data['lambda'] <= alpha_2].shape[0]/data.shape[0])\n",
    "\n"
   ]
  },
  {
   "cell_type": "code",
   "execution_count": 124,
   "metadata": {},
   "outputs": [
    {
     "name": "stderr",
     "output_type": "stream",
     "text": [
      "100%|██████████| 229194/229194 [01:01<00:00, 3726.63it/s]\n"
     ]
    }
   ],
   "source": [
    "new_grid1 = pred.intensity_matrix.copy()\n",
    "\n",
    "for i in tqdm(range(data.shape[0])):\n",
    "    this_crime = data.loc[i]\n",
    "    xproj, yproj = proj(this_crime.x, this_crime.y)\n",
    "\n",
    "    grid_x, grid_y = grid_proj.grid_coord(xproj, yproj)\n",
    "\n",
    "    this_lambda = data['lambda'][i]\n",
    "\n",
    "    #check if above threshold, decrement the value in the square if so \n",
    "    if this_lambda >= alpha_1: \n",
    "        new_grid1[grid_y][grid_x]-= beta_1\n",
    "    if this_lambda <= alpha_2: \n",
    "        new_grid1[grid_y][grid_x]+= beta_2"
   ]
  },
  {
   "cell_type": "code",
   "execution_count": 128,
   "metadata": {},
   "outputs": [],
   "source": [
    "def plot_intensity(grid_input):\n",
    "    #save figure of the plotted intensity matrix\n",
    "    fig, ax = plt.subplots(figsize=(20,10))\n",
    "    ax.add_patch(descartes.PolygonPatch(geo_proj, fc=\"none\"))\n",
    "    ax.set_aspect(1)\n",
    "    off = 1000\n",
    "    factor = 1\n",
    "\n",
    "    mappable = ax.pcolor(*pred.mesh_data(), grid_input, cmap=\"YlOrRd\", rasterized=True)\n",
    "    fig.colorbar(mappable, ax=ax)\n",
    "    #ax.set_title(\"LA Crime Predictions Adjusted\" )\n",
    "    None\n",
    "    plt.xlim([min(xcoords_proj) - off, max(xcoords_proj) + off])\n",
    "    plt.ylim([min(ycoords_proj) - off, max(ycoords_proj) + off])\n",
    "    plt.xticks([])\n",
    "    plt.yticks([])\n",
    "    #plot_title = np.datetime_as_string(train_date, unit = 'D')\n",
    "    #plt.savefig('ETAS_plots/' + plot_title + '.png')\n",
    "    plt.show()\n"
   ]
  },
  {
   "cell_type": "code",
   "execution_count": 132,
   "metadata": {},
   "outputs": [
    {
     "name": "stderr",
     "output_type": "stream",
     "text": [
      "/Users/annieulichney/opt/anaconda3/lib/python3.8/site-packages/descartes/patch.py:46: ShapelyDeprecationWarning: Iteration over multi-part geometries is deprecated and will be removed in Shapely 2.0. Use the `geoms` property to access the constituent parts of a multi-part geometry.\n",
      "  polygon = [Polygon(p) for p in polygon]\n",
      "/Users/annieulichney/opt/anaconda3/lib/python3.8/site-packages/descartes/patch.py:63: ShapelyDeprecationWarning: The array interface is deprecated and will no longer work in Shapely 2.0. Convert the '.coords' to a numpy array instead.\n",
      "  concatenate([asarray(t.exterior)[:, :2]] +\n"
     ]
    },
    {
     "data": {
      "image/png": "[encoded data removed]",
      "text/plain": [
       "<Figure size 1440x720 with 2 Axes>"
      ]
     },
     "metadata": {
      "needs_background": "light"
     },
     "output_type": "display_data"
    }
   ],
   "source": [
    "plot_intensity(new_grid1)"
   ]
  },
  {
   "cell_type": "code",
   "execution_count": 133,
   "metadata": {},
   "outputs": [
    {
     "name": "stdout",
     "output_type": "stream",
     "text": [
      "Above alpha_1 threshold:  0.16864315819785858\n",
      "Below alpha_2 threshold:  0.30952380952380953\n"
     ]
    }
   ],
   "source": [
    "#recall that the lambda value is the proxy for crime being found on accident\n",
    "#low means we should upweight that particular crime\n",
    "#high means we should downweight it\n",
    "\n",
    "beta_1 = 0.001\n",
    "alpha_1 = np.mean(data['lambda']) + np.std(data['lambda'])\n",
    "\n",
    "beta_2 = 0.00\n",
    "alpha_2 = np.mean(data['lambda']) - 0.75*np.std(data['lambda'])\n",
    "\n",
    "print('Above alpha_1 threshold: ', data[data['lambda'] >= alpha_1].shape[0]/data.shape[0])\n",
    "print('Below alpha_2 threshold: ', data[data['lambda'] <= alpha_2].shape[0]/data.shape[0])\n",
    "\n"
   ]
  },
  {
   "cell_type": "code",
   "execution_count": 134,
   "metadata": {},
   "outputs": [
    {
     "name": "stderr",
     "output_type": "stream",
     "text": [
      "100%|██████████| 229194/229194 [01:09<00:00, 3283.26it/s]\n"
     ]
    }
   ],
   "source": [
    "new_grid2 = pred.intensity_matrix.copy()\n",
    "\n",
    "for i in tqdm(range(data.shape[0])):\n",
    "    this_crime = data.loc[i]\n",
    "    xproj, yproj = proj(this_crime.x, this_crime.y)\n",
    "\n",
    "    grid_x, grid_y = grid_proj.grid_coord(xproj, yproj)\n",
    "\n",
    "    this_lambda = data['lambda'][i]\n",
    "\n",
    "    #check if above threshold, decrement the value in the square if so \n",
    "    if this_lambda >= alpha_1: \n",
    "        new_grid2[grid_y][grid_x]-= beta_1\n",
    "    if this_lambda <= alpha_2: \n",
    "        new_grid2[grid_y][grid_x]+= beta_2"
   ]
  },
  {
   "cell_type": "code",
   "execution_count": 135,
   "metadata": {},
   "outputs": [
    {
     "name": "stderr",
     "output_type": "stream",
     "text": [
      "/Users/annieulichney/opt/anaconda3/lib/python3.8/site-packages/descartes/patch.py:46: ShapelyDeprecationWarning: Iteration over multi-part geometries is deprecated and will be removed in Shapely 2.0. Use the `geoms` property to access the constituent parts of a multi-part geometry.\n",
      "  polygon = [Polygon(p) for p in polygon]\n",
      "/Users/annieulichney/opt/anaconda3/lib/python3.8/site-packages/descartes/patch.py:63: ShapelyDeprecationWarning: The array interface is deprecated and will no longer work in Shapely 2.0. Convert the '.coords' to a numpy array instead.\n",
      "  concatenate([asarray(t.exterior)[:, :2]] +\n"
     ]
    },
    {
     "data": {
      "image/png": "[encoded data removed]",
      "text/plain": [
       "<Figure size 1440x720 with 2 Axes>"
      ]
     },
     "metadata": {
      "needs_background": "light"
     },
     "output_type": "display_data"
    }
   ],
   "source": [
    "plot_intensity(new_grid2)"
   ]
  },
  {
   "cell_type": "code",
   "execution_count": 136,
   "metadata": {},
   "outputs": [
    {
     "name": "stderr",
     "output_type": "stream",
     "text": [
      "  0%|          | 316/229194 [00:00<01:12, 3157.69it/s]"
     ]
    },
    {
     "name": "stdout",
     "output_type": "stream",
     "text": [
      "Above alpha_1 threshold:  0.16864315819785858\n",
      "Below alpha_2 threshold:  0.30952380952380953\n"
     ]
    },
    {
     "name": "stderr",
     "output_type": "stream",
     "text": [
      "100%|██████████| 229194/229194 [01:03<00:00, 3630.25it/s]\n",
      "/Users/annieulichney/opt/anaconda3/lib/python3.8/site-packages/descartes/patch.py:46: ShapelyDeprecationWarning: Iteration over multi-part geometries is deprecated and will be removed in Shapely 2.0. Use the `geoms` property to access the constituent parts of a multi-part geometry.\n",
      "  polygon = [Polygon(p) for p in polygon]\n",
      "/Users/annieulichney/opt/anaconda3/lib/python3.8/site-packages/descartes/patch.py:63: ShapelyDeprecationWarning: The array interface is deprecated and will no longer work in Shapely 2.0. Convert the '.coords' to a numpy array instead.\n",
      "  concatenate([asarray(t.exterior)[:, :2]] +\n"
     ]
    },
    {
     "data": {
      "image/png": "[encoded data removed]",
      "text/plain": [
       "<Figure size 1440x720 with 2 Axes>"
      ]
     },
     "metadata": {
      "needs_background": "light"
     },
     "output_type": "display_data"
    }
   ],
   "source": [
    "#recall that the lambda value is the proxy for crime being found on accident\n",
    "#low means we should upweight that particular crime\n",
    "#high means we should downweight it\n",
    "\n",
    "beta_1 = 0.00\n",
    "alpha_1 = np.mean(data['lambda']) + np.std(data['lambda'])\n",
    "\n",
    "beta_2 = 0.001\n",
    "alpha_2 = np.mean(data['lambda']) - 0.75*np.std(data['lambda'])\n",
    "\n",
    "print('Above alpha_1 threshold: ', data[data['lambda'] >= alpha_1].shape[0]/data.shape[0])\n",
    "print('Below alpha_2 threshold: ', data[data['lambda'] <= alpha_2].shape[0]/data.shape[0])\n",
    "\n",
    "new_grid3 = pred.intensity_matrix.copy()\n",
    "\n",
    "for i in tqdm(range(data.shape[0])):\n",
    "    this_crime = data.loc[i]\n",
    "    xproj, yproj = proj(this_crime.x, this_crime.y)\n",
    "\n",
    "    grid_x, grid_y = grid_proj.grid_coord(xproj, yproj)\n",
    "\n",
    "    this_lambda = data['lambda'][i]\n",
    "\n",
    "    #check if above threshold, decrement the value in the square if so \n",
    "    if this_lambda >= alpha_1: \n",
    "        new_grid3[grid_y][grid_x]-= beta_1\n",
    "    if this_lambda <= alpha_2: \n",
    "        new_grid3[grid_y][grid_x]+= beta_2\n",
    "\n",
    "plot_intensity(new_grid3)\n",
    "\n"
   ]
  },
  {
   "cell_type": "code",
   "execution_count": null,
   "metadata": {},
   "outputs": [],
   "source": []
  },
  {
   "cell_type": "code",
   "execution_count": null,
   "metadata": {},
   "outputs": [],
   "source": []
  },
  {
   "cell_type": "code",
   "execution_count": null,
   "metadata": {},
   "outputs": [],
   "source": []
  },
  {
   "cell_type": "code",
   "execution_count": null,
   "metadata": {},
   "outputs": [],
   "source": [
    "#save figure of the plotted intensity matrix\n",
    "fig, ax = plt.subplots(figsize=(20,10))\n",
    "ax.add_patch(descartes.PolygonPatch(geo_proj, fc=\"none\"))\n",
    "ax.set_aspect(1)\n",
    "off = 1000\n",
    "factor = 1\n",
    "\n",
    "mappable = ax.pcolor(*pred.mesh_data(), new_grid1, cmap=\"YlOrRd\", rasterized=True)\n",
    "fig.colorbar(mappable, ax=ax)\n",
    "ax.set_title(\"LA Crime Predictions Adjusted\" )\n",
    "None\n",
    "plt.xlim([min(xcoords_proj) - off, max(xcoords_proj) + off])\n",
    "plt.ylim([min(ycoords_proj) - off, max(ycoords_proj) + off])\n",
    "plt.xticks([])\n",
    "plt.yticks([])\n",
    "plot_title = np.datetime_as_string(train_date, unit = 'D')\n",
    "#plt.savefig('ETAS_plots/' + plot_title + '.png')\n",
    "plt.show()"
   ]
  },
  {
   "cell_type": "code",
   "execution_count": 81,
   "metadata": {},
   "outputs": [
    {
     "data": {
      "text/plain": [
       "229194"
      ]
     },
     "execution_count": 81,
     "metadata": {},
     "output_type": "execute_result"
    }
   ],
   "source": [
    "data.shape[0]"
   ]
  },
  {
   "cell_type": "code",
   "execution_count": null,
   "metadata": {},
   "outputs": [],
   "source": [
    "new_grid1 = pred.intensity_matrix.copy()"
   ]
  }
 ],
 "metadata": {
  "interpreter": {
   "hash": "d49eb846d9e9e33562e6444db983d5d3192f0621d82336681e003790fb98d6fc"
  },
  "kernelspec": {
   "display_name": "Python 3.8.8 ('base')",
   "language": "python",
   "name": "python3"
  },
  "language_info": {
   "codemirror_mode": {
    "name": "ipython",
    "version": 3
   },
   "file_extension": ".py",
   "mimetype": "text/x-python",
   "name": "python",
   "nbconvert_exporter": "python",
   "pygments_lexer": "ipython3",
   "version": "3.8.8"
  },
  "orig_nbformat": 4
 },
 "nbformat": 4,
 "nbformat_minor": 2
}
