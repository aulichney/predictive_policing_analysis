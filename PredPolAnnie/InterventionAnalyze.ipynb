{
 "cells": [
  {
   "cell_type": "code",
   "execution_count": 2,
   "metadata": {},
   "outputs": [],
   "source": [
    "import numpy as np\n",
    "import pandas as pd\n",
    "\n",
    "from shapely.geometry import Point\n",
    "import geopandas as gpd\n",
    "from geopandas import GeoDataFrame\n",
    "\n",
    "from datetime import datetime\n",
    "from dateutil.relativedelta import relativedelta\n",
    "\n",
    "import pyproj\n",
    "\n",
    "\n",
    "import descartes\n",
    "%matplotlib inline\n",
    "import matplotlib.pyplot as plt\n",
    "\n",
    "import shapely\n",
    "import contextily as cx\n",
    "\n",
    "import open_cp.data\n",
    "import open_cp.geometry\n",
    "import open_cp.plot\n",
    "import matplotlib.collections\n",
    "import open_cp.kernels\n",
    "\n",
    "import sepp.sepp_grid\n",
    "import datetime\n",
    "\n",
    "from tqdm import tqdm"
   ]
  },
  {
   "cell_type": "code",
   "execution_count": 3,
   "metadata": {},
   "outputs": [],
   "source": [
    "#read in crime data and clean\n",
    "crime = pd.read_csv('2018LAcrime.csv')\n",
    "crime['DATE OCC'] = crime['DATE OCC'].apply(lambda x: datetime.datetime.strptime(x,  '%Y-%m-%d %H:%M:%S'))\n",
    "#crime = crime[(crime['DATE OCC'].dt.year == 2018)|(crime['DATE OCC'].dt.year == 2017)]\n",
    "crime = crime[~((crime.LAT==0)&(crime.LON==0))]"
   ]
  },
  {
   "cell_type": "code",
   "execution_count": null,
   "metadata": {},
   "outputs": [],
   "source": []
  }
 ],
 "metadata": {
  "interpreter": {
   "hash": "d49eb846d9e9e33562e6444db983d5d3192f0621d82336681e003790fb98d6fc"
  },
  "kernelspec": {
   "display_name": "Python 3.8.8 ('base')",
   "language": "python",
   "name": "python3"
  },
  "language_info": {
   "codemirror_mode": {
    "name": "ipython",
    "version": 3
   },
   "file_extension": ".py",
   "mimetype": "text/x-python",
   "name": "python",
   "nbconvert_exporter": "python",
   "pygments_lexer": "ipython3",
   "version": "3.8.8"
  },
  "orig_nbformat": 4
 },
 "nbformat": 4,
 "nbformat_minor": 2
}
